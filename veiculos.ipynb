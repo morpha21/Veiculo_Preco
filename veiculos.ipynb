{
 "cells": [
  {
   "cell_type": "markdown",
   "id": "6063a27e",
   "metadata": {},
   "source": [
    "# Introdução:\n",
    "Temos um conjunto de dados de vendas de veículos usados e, em posse disso, vamos:\n",
    "\n",
    "1 - Fazer um levantamento de quais estatísticas nos são mais relevantes;\n",
    "\n",
    "2 - Fazer uma análise exploratória de dados e criar e responder 3 perguntas de negócio, e também responder as seguintes perguntas:\n",
    "\n",
    "   2.a - Qual o melhor estado na base de dados para se vender um veículo e por que? \n",
    "   \n",
    "   2.b - Qual o melhor estado para se comprar uma Picape com transmissão automática e por que?\n",
    "   \n",
    "   2.c - Qual o melhor estado para se comprar carros que estejam dentro da garantia de fábrica e por que?\n",
    "    \n",
    "3 - como será feita a previsão do preço e por que? qual tipo de problema estamos resolvendo? qual modelo melhor se aproxima dos dados e quais seus prós e contras? Qual medida de performance do modelo foi escolhida e por que?\n",
    "\n",
    "## Bibliotecas:\n",
    "\n",
    "Abaixo, importamos todas as bibliotecas que serão usadas ao longo deste projeto."
   ]
  },
  {
   "cell_type": "code",
   "execution_count": null,
   "id": "d9455cd3",
   "metadata": {},
   "outputs": [],
   "source": [
    "import pandas            as pd\n",
    "import numpy             as np\n",
    "import seaborn           as sns\n",
    "import matplotlib.pyplot as plt\n",
    "%matplotlib inline\n",
    "\n",
    "from sklearn.model_selection import train_test_split\n",
    "from sklearn.preprocessing import OneHotEncoder, StandardScaler\n",
    "from sklearn.compose import ColumnTransformer\n",
    "from sklearn.linear_model import LinearRegression\n",
    "from sklearn.metrics import mean_squared_error, r2_score\n",
    "\n",
    "sns.set()"
   ]
  },
  {
   "cell_type": "markdown",
   "id": "25499f27",
   "metadata": {},
   "source": [
    "## Funções:"
   ]
  },
  {
   "cell_type": "code",
   "execution_count": null,
   "id": "47cd2917",
   "metadata": {},
   "outputs": [],
   "source": [
    "def double_bar_plot(series1,\n",
    "                    series2,\n",
    "                    figsize=(12,6),\n",
    "                    xlabel1=None,\n",
    "                    xlabel2=None,\n",
    "                    ylabel1=None,\n",
    "                    ylabel2=None,\n",
    "                    title1=None,\n",
    "                    title2=None,\n",
    "                   color1='mediumaquamarine',\n",
    "                   color2='sandybrown'):\n",
    "    plt.figure(figsize=figsize, facecolor='moccasin')\n",
    "\n",
    "    plt.subplot(1,2,1)\n",
    "    sns.barplot(x=series1.index, y=series1, color=color1, alpha=0.7);\n",
    "    plt.xlabel(xlabel1)\n",
    "    plt.ylabel(ylabel1)\n",
    "    plt.title(title1)\n",
    "    plt.xticks(rotation=64)\n",
    "\n",
    "    plt.subplot(1, 2, 2)\n",
    "    sns.barplot(x=series2.index, y=series2, color=color2, alpha=0.7);\n",
    "    plt.xlabel(xlabel2)\n",
    "    plt.ylabel(ylabel2)\n",
    "    plt.title(title2)\n",
    "    plt.xticks(rotation=64)\n",
    "\n",
    "    plt.show()"
   ]
  },
  {
   "cell_type": "markdown",
   "id": "c40ef146",
   "metadata": {},
   "source": [
    "## Dados:\n",
    "Temos um conjunto de treino e um conjunto de teste já previamente separados. Aqui, carregamos ambos. Os dados foram recebidos em arquivos .csv que estavam codificados em UTF-16LE, e as colunas estavam separadas pelo caracter de espaçamento `\\t`. \n",
    "\n",
    "Além de carregar os dados, vamos tentar extrair algumas informações preliminares: quais features estão envolvidas, qual o tipo de cada feature e algumas estatísticas básicas de features numéricas."
   ]
  },
  {
   "cell_type": "code",
   "execution_count": null,
   "id": "2db01bc0",
   "metadata": {},
   "outputs": [],
   "source": [
    "treino = pd.read_csv(\"cars_train.csv\", delimiter='\\t', encoding='utf-16-le')\n",
    "teste  = pd.read_csv(\"cars_test.csv\",  delimiter='\\t', encoding='utf-16-le')\n",
    "\n",
    "# quantidade de dados e features com os quais estamos trabalhando:\n",
    "print(\"treino:\", treino.shape)\n",
    "print(\"teste:\", teste.shape)\n",
    "print()\n",
    "\n",
    "# Todas as features com as quais estamos lidando: \n",
    "print(\"features: \")\n",
    "treino.info()"
   ]
  },
  {
   "cell_type": "code",
   "execution_count": null,
   "id": "041728b1",
   "metadata": {},
   "outputs": [],
   "source": [
    "treino.describe()"
   ]
  },
  {
   "cell_type": "markdown",
   "id": "fbe7a19a",
   "metadata": {},
   "source": [
    "Pudemos ver acima pelas contagens que faltam valores de algumas features. Em outras palavras, há dados nulos em nosso conjunto de dados. Vamos procurar entender melhor estes dados nulos para decidirmos se vamos tratá-los, preenchê-los ou mesmo descartá-los:"
   ]
  },
  {
   "cell_type": "code",
   "execution_count": null,
   "id": "41c20f16",
   "metadata": {},
   "outputs": [],
   "source": [
    "# dados nulos em teste: \n",
    "dados_nulos = (teste.isnull().sum()[teste.isnull().sum() > 0])\n",
    "print(\"dados nulos em teste:\")\n",
    "print(dados_nulos)\n",
    "\n",
    "print()\n",
    "\n",
    "# dados nulos em treino: \n",
    "dados_nulos = (treino.isnull().sum()[treino.isnull().sum() > 0])\n",
    "print(\"dados nulos em treino: \")\n",
    "print(dados_nulos)"
   ]
  },
  {
   "cell_type": "markdown",
   "id": "e7b036b0",
   "metadata": {},
   "source": [
    "Vamos investigar isso melhor. Abaixo, algumas coisas chamam a atenção. \n",
    "\n",
    "A coluna `'veiculo_alienado'` possui apenas dados nulos. Isso pode querer dizer que nenhum veículo da base de dados é alieanado, mas, de todo modo, o dado é uma constante e portanto trivial. Descartaremos esta coluna.\n",
    "\n",
    "A coluna `'num_fotos'` possui relativamente poucos dados nulos. Substituíremos esses dados nulos pela parte inteira da média de fotos por veículo considerando todo o conjunto de dados(treino e teste). Parece fazer mais sentido substituir por um valor médio do que por 0 pois parece improvável que se anuncie um veículo à venda na internet sem que haja fotos do veículo.\n",
    "\n",
    "Como se pode ver abaixo, todas as outras possuem apenas dois valores. Não há como distinguir se há dados ausentes nessas colunas ou não pois, ao que parece, os dados ausentes se confundiriam com dados negativos. Por exemplo, não temos como saber se um veículo não está licenciado de fato ou se a informação apenas está ausente. Optamos, em um primeiro momento, por supor que não há dados ausentes nestas colunas e subsituímos seus valores por `True` ou `False`. "
   ]
  },
  {
   "cell_type": "code",
   "execution_count": null,
   "id": "3402bd09",
   "metadata": {},
   "outputs": [],
   "source": [
    "for coluna in dados_nulos.index:\n",
    "    print(\"{}(teste):\\n\".format(coluna), teste[coluna].unique())\n",
    "    print(\"{}(treino):\\n\".format(coluna), treino[coluna].unique())\n",
    "    print()"
   ]
  },
  {
   "cell_type": "code",
   "execution_count": null,
   "id": "0ff1895a",
   "metadata": {},
   "outputs": [],
   "source": [
    "# media de numero de fotos por anúncio\n",
    "(teste['num_fotos'].sum()+treino['num_fotos'].sum())/(treino.shape[0]+teste.shape[0])"
   ]
  },
  {
   "cell_type": "code",
   "execution_count": null,
   "id": "fbb7b8b9",
   "metadata": {},
   "outputs": [],
   "source": [
    "# descarta a coluna 'veiculo_alienado':\n",
    "treino.drop(columns='veiculo_alienado', inplace=True)\n",
    "teste.drop(columns='veiculo_alienado', inplace=True)\n",
    "\n",
    "# transforma os dados das demais colunas com dados nulos,\n",
    "# com exceção de 'num_fotos' e 'veiculo_alienado':\n",
    "for coluna in dados_nulos.index[1:-1]:\n",
    "    treino[coluna] = treino[coluna].apply(lambda x: (type(x) == str))\n",
    "    teste[coluna]  =  teste[coluna].apply(lambda x: (type(x) == str))    \n",
    "    \n",
    "# substitui dados nulos em fotos por um valor próximo à média: \n",
    "treino['num_fotos'].fillna(10, inplace=True)\n",
    "teste['num_fotos'].fillna(10, inplace=True)"
   ]
  },
  {
   "cell_type": "markdown",
   "id": "7e5abd57",
   "metadata": {},
   "source": [
    "Agora, como podemos ver, já não há mais dados nulos nos conjuntos de teste e treino."
   ]
  },
  {
   "cell_type": "code",
   "execution_count": null,
   "id": "90d9ea14",
   "metadata": {},
   "outputs": [],
   "source": [
    "# dados nulos em teste: \n",
    "dados_nulos = (teste.isnull().sum()[teste.isnull().sum() > 0])\n",
    "print(\"dados nulos em teste:\")\n",
    "print(dados_nulos)\n",
    "\n",
    "print()\n",
    "\n",
    "# dados nulos em treino: \n",
    "dados_nulos = (treino.isnull().sum()[treino.isnull().sum() > 0])\n",
    "print(\"dados nulos em treino: \")\n",
    "print(dados_nulos)"
   ]
  },
  {
   "cell_type": "markdown",
   "id": "1eadec8e",
   "metadata": {},
   "source": [
    "Agora, vamos renomear algumas colunas para facilitar a manipulação dos dados. "
   ]
  },
  {
   "cell_type": "code",
   "execution_count": null,
   "id": "24b6ae4e",
   "metadata": {},
   "outputs": [],
   "source": [
    "print(\"antes:\\n\", treino.columns)\n",
    "\n",
    "nomes = {'num_fotos'           : 'fotos', \n",
    "         'ano_de_fabricacao'   : 'fabricacao',\n",
    "         'num_portas'          : 'portas',\n",
    "         'entrega_delivery'    : 'delivery',\n",
    "         'dono_aceita_troca'   : 'aceita_troca',\n",
    "         'veiculo_único_dono'  : 'unico_dono',\n",
    "         'garantia_de_fábrica' : 'garantia',\n",
    "         'veiculo_licenciado'  : 'licenciado',\n",
    "         'estado_vendedor'     : 'uf'\n",
    "        }\n",
    "teste.rename(columns=nomes, inplace=True)\n",
    "treino.rename(columns=nomes, inplace=True)\n",
    "print()\n",
    "print(\"depois:\\n\", treino.columns)"
   ]
  },
  {
   "cell_type": "markdown",
   "id": "4d6862f8",
   "metadata": {},
   "source": [
    "Vamos também dar uma forma mais conveniente à coluna com dados dos estados dos vendedores. Podemos observar que não há, dentre os dados de treino, vendedores no Distrito Federal(DF) e no Amapá(AP), e dentre os dados de teste, além deste já citados, não há vendedores do Maranhão (MA).  "
   ]
  },
  {
   "cell_type": "code",
   "execution_count": null,
   "id": "2ae481b4",
   "metadata": {},
   "outputs": [],
   "source": [
    "treino['uf'] = treino['uf'].apply(lambda x: x[-3:-1])\n",
    "teste['uf'] = teste['uf'].apply(lambda x: x[-3:-1])\n",
    "\n",
    "print(\"quantidade de estados (treino):\", len(treino['uf'].unique()))\n",
    "print(treino['uf'].unique())\n",
    "print()\n",
    "print(\"quantidade de estados (teste):\", len(teste['uf'].unique()))\n",
    "print(teste['uf'].unique())"
   ]
  },
  {
   "cell_type": "markdown",
   "id": "dc2984b1",
   "metadata": {},
   "source": [
    "Abaixo, podemos ver que São Paulo é o estado onde mais tem veículos anunciados. Isso não deveria ser surpreendente, porque São Paulo é o estado com maior poder econômico do Brasil, segunda maior renda per capita, e também a maior população. Roraima, por outro lado, é o estado com menor poder econômico e menor população, o que pode justificar sua baixa quantidade de anúncios nestes dados. \n",
    "\n",
    "Entretanto, esses dados não necessariamente refletem o cenário nacional como um todo, pois não sabemos a origem dos dados. Por exemplo, os dados podem ter vindo de uma plataforma que investe mais em marketing no estado de São Paulo do que nos outros. O Distrito Federal tem a maior renda per capita e a maior densidade demográfica do País, contando com mais de quatro vezes a população de Roraima, mas sequer consta no conjunto de dados com o qual trabalhamos. \n",
    "\n",
    "Dito isso, não podemos usar apenas esses dados para falar de compra e vendas a um nível verdadeiramente nacional. \n",
    "\n",
    "Abaixo, podemos ver que há muito mais anúncios em SP do que nos demais estados:\n"
   ]
  },
  {
   "cell_type": "code",
   "execution_count": null,
   "id": "7b0d9747",
   "metadata": {},
   "outputs": [],
   "source": [
    "x1 = treino['uf'].value_counts() + teste['uf'].value_counts()\n",
    "x1.sort_values(ascending=False, inplace=True)\n",
    "\n",
    "plt.figure(figsize = (16,6), facecolor='moccasin')\n",
    "\n",
    "plt.subplot(1, 2, 1)\n",
    "plt.title('Total de Anúncios por União Federativa')\n",
    "sns.barplot(x=x1.index, y=x1.values, alpha=0.7, label='treino')\n",
    "plt.xlabel('UF')\n",
    "plt.ylabel('Total de Anúncios')\n",
    "plt.xticks(rotation=64)\n",
    "\n",
    "sp = treino[treino['uf'] == 'SP']['uf'].value_counts().sum() + teste[teste['uf'] == 'SP']['uf'].value_counts().sum()    \n",
    "demais = treino[treino['uf'] != 'SP']['uf'].value_counts().sum() + teste[teste['uf'] != 'SP']['uf'].value_counts().sum()\n",
    "plt.subplot(1, 2, 2)\n",
    "plt.bar(['SP', \"Demais UF's\"], [sp, demais], color =['cyan', 'khaki'],width = 0.4)\n",
    "\n",
    "plt.show()"
   ]
  },
  {
   "cell_type": "markdown",
   "id": "509e3ea3",
   "metadata": {},
   "source": [
    "# Melhor estado para se vender carros de marcas populares\n",
    "Primeiro, precisamos definir o que são marcas populares. A expressão \"carro popular\" costuma se referir a \"carros de entrada\", carros mais baratos do que média. Vamos primeiro olhar para a média de preços dos carros anunciados: "
   ]
  },
  {
   "cell_type": "code",
   "execution_count": null,
   "id": "a4a583ce",
   "metadata": {},
   "outputs": [],
   "source": [
    "preco_medio = treino['preco'].mean()\n",
    "print(\"preço médio:\",preco_medio)"
   ]
  },
  {
   "cell_type": "markdown",
   "id": "e5700543",
   "metadata": {},
   "source": [
    "Vemos que a média de preços dos veículos anunciados está por volta de 133 mil reais. Vamos agora olhar para a média dos preços dos veículos por marca:"
   ]
  },
  {
   "cell_type": "code",
   "execution_count": null,
   "id": "e2af5684",
   "metadata": {},
   "outputs": [],
   "source": [
    "medias_marcas = (treino.groupby('marca')['preco'].mean().sort_values())\n",
    "medias_marcas"
   ]
  },
  {
   "cell_type": "markdown",
   "id": "8e0f26d7",
   "metadata": {},
   "source": [
    "Vamos considerar 'marcas populares' como sendo marcas cuja média dos preços está abaixo do preço médio calculado acima: "
   ]
  },
  {
   "cell_type": "code",
   "execution_count": null,
   "id": "145e75e8",
   "metadata": {},
   "outputs": [],
   "source": [
    "marcas_populares = medias_marcas.loc[lambda x: x<preco_medio].index\n",
    "marcas_populares = treino[treino['marca'].isin(marcas_populares)]"
   ]
  },
  {
   "cell_type": "raw",
   "id": "3b8d5008",
   "metadata": {},
   "source": [
    "Agora vamos ver como os anúncios de marcas populares se distribuem pelas UF's: "
   ]
  },
  {
   "cell_type": "code",
   "execution_count": null,
   "id": "a07c211b",
   "metadata": {},
   "outputs": [],
   "source": [
    "populares = marcas_populares['uf'].value_counts()\n",
    "\n",
    "plt.figure(figsize = (16,4), facecolor='moccasin')\n",
    "\n",
    "plt.subplot(1, 2, 1)\n",
    "plt.bar(populares.index,populares, color='mediumaquamarine');\n",
    "plt.title(\"Carros 'populares' por UF\")\n",
    "plt.xticks(rotation=64)\n",
    "plt.show()"
   ]
  },
  {
   "cell_type": "markdown",
   "id": "dd3e797e",
   "metadata": {},
   "source": [
    "Vamos agora olhar para a média de preços de marcas populares por UF: "
   ]
  },
  {
   "cell_type": "code",
   "execution_count": null,
   "id": "2f456108",
   "metadata": {},
   "outputs": [],
   "source": [
    "populares_medias_uf = marcas_populares.groupby('uf')['preco'].mean().sort_values(ascending=False)\n",
    "\n",
    "plt.figure(figsize = (16,6), facecolor='moccasin')\n",
    "sns.barplot(x=populares_medias_uf.index, y=populares_medias_uf, color='mediumaquamarine', alpha=0.7, label='treino');\n",
    "plt.ylabel('Preço médio de carros de marcas populares')\n",
    "plt.title('Preço médio de carros de marcas populares por UF(quanto maior, melhor para se vender)')\n",
    "plt.xticks(rotation=64)\n",
    "plt.show()"
   ]
  },
  {
   "cell_type": "markdown",
   "id": "dcc7ffd4",
   "metadata": {},
   "source": [
    "Aqui já nos parece que Piauí é a melhor opção para se vender carros de marcas populares(conforme nossa definição de marcas populares), pois é o estado onde a média dos preços de carros dessas marcas é maior. \n",
    "\n",
    "Agora, a fim de ver a variabilidade dos preços dos veículos das marcas populares por UF, vamos olhar para o desvio padrão dos preços de carros de marcas populares nesses estados que tem a média mais alta:"
   ]
  },
  {
   "cell_type": "code",
   "execution_count": null,
   "id": "9b7965e4",
   "metadata": {},
   "outputs": [],
   "source": [
    "populares_desvios_uf = marcas_populares.groupby('uf')['preco'].std().sort_values(ascending=False)\n",
    "\n",
    "plt.figure(figsize = (16,6), facecolor='moccasin')\n",
    "sns.barplot(x=populares_desvios_uf.index, y=populares_desvios_uf, color='mediumaquamarine', alpha=0.7, label='treino');\n",
    "plt.ylabel('Desvio Padrão de carros de marcas populares')\n",
    "plt.title('Desvio Padrão de carros de marcas populares por UF(quanto menor, melhor para se vender)')\n",
    "plt.xticks(rotation=64)\n",
    "plt.show()"
   ]
  },
  {
   "cell_type": "markdown",
   "id": "1f8d29bf",
   "metadata": {},
   "source": [
    "Uma média alta nos diz que é bom vender veículos em um estado porque pode ser mais fácil de se competir no mercado local. Um desvio padrão baixo nos diz que o preço dos carros varia pouco. Se tivermos uma média alta e um desvio padrão baixo, significa que temos preços altos e poucas opções de preços. Vemos que Maranhão e Rondônia tem preço médio de veículos de marcas populares bastante altos, embora não tanto quanto Piauí, mas em compensação tem Desvio Padrão bem mais baixo. \n",
    "\n",
    "Para decidir, agora vamos olhar para o Coeficiente de Variação, que é a razão entre o Desvio Padrão e a Média. Nós procuramos aqui o Coeficiente de Variação mais baixo pois, além de nos dizer qual estado apresenta menor variabilidade de dados em relação à média (o que seria bom para vendas), por ser a razão entre o Desvio Padrão e a Média, pode ser, neste caso, encarado como uma relação de \"custo/benefício\" entre essas duas medidas, pois queremos maximizar a média, o que contribui para um menor Coeficiente de Variação, e minimizar o desvio padrão, que também contribui para um menor Coeficiente de Variação:  "
   ]
  },
  {
   "cell_type": "code",
   "execution_count": null,
   "id": "967fcebe",
   "metadata": {},
   "outputs": [],
   "source": [
    "d = marcas_populares.groupby('uf')['preco'].std()\n",
    "m = marcas_populares.groupby('uf')['preco'].mean()\n",
    "\n",
    "populares_CV_uf = (d/m).sort_values()\n",
    "populares_CV_uf\n",
    "\n",
    "plt.figure(figsize = (16,6), facecolor='moccasin')\n",
    "sns.barplot(x=populares_CV_uf.index, y=populares_CV_uf, color='mediumaquamarine', alpha=0.7, label='treino');\n",
    "plt.ylabel('Coeficiente de Variação')\n",
    "plt.title('Coeficiente de Variação de carros de marcas populares por UF(quanto menor, melhor para se vender)')\n",
    "plt.xticks(rotation=64)\n",
    "plt.show()"
   ]
  },
  {
   "cell_type": "markdown",
   "id": "0985ae71",
   "metadata": {},
   "source": [
    "Curiosamente, Roraima é o estado com menor coeficiente de variação, muito embora tenha a menor média de preços, o que não seria bom sinal. Esta análise puramente numérica com base apenas nos dados que nos foram fornecidos é um indício muito forte de Roraima é o melhor estado para se vender veículos e, se eu for obrigado a dizer qual o melhor lugar para se vender carros de marcas populares, conforme definimos acima, eu digo que o melhor estado é Roraima. \n",
    "\n",
    "Entretanto, olhando para a quantidade de veículos de marcas populares anunciados em cada um dos estados, parece difícil decidir entre Maranhão, Piauí, Roraima e Rondonia, pois temos muito poucos dados para querer tomar decisões baseadas apenas em estatística, e em todos esses estados há poucos veículos há vendas do que nós definimos acima como 'marcas populares'. Talvez com um conjunto de dados maior ou uma lista pré-definida de 'marcas populares', pudéssemos ter melhores insights sobre qual o melhor estado.    "
   ]
  },
  {
   "cell_type": "code",
   "execution_count": null,
   "id": "f5fa3ff7",
   "metadata": {},
   "outputs": [],
   "source": [
    "marcas_populares['uf'].value_counts()"
   ]
  },
  {
   "cell_type": "markdown",
   "id": "37ca9d94",
   "metadata": {},
   "source": [
    "# Picapes com Transmissão Automática\n",
    "Abaixo, podemos ver que há mais picapes com câmbio automático anunciadas em SP do que em todos as outras UF's combinadas. Isto é um forte indicativo de que SP é o melhor estado na nossa base de dados para comprar uma picape com transmissão automática simplesmente porque lá há mais opções. Mas vamos investigar isso um pouco melhor. "
   ]
  },
  {
   "cell_type": "code",
   "execution_count": null,
   "id": "1dd1177f",
   "metadata": {},
   "outputs": [],
   "source": [
    "picape_automatica = treino[(treino['tipo'] == 'Picape') & (treino['cambio'] == 'Automática')]\n",
    "x1 = picape_automatica['uf'].value_counts()\n",
    "\n",
    "sp = picape_automatica[picape_automatica['uf'] == 'SP'].shape[0]\n",
    "demais = picape_automatica[picape_automatica['uf'] != 'SP'].shape[0]\n",
    "data = pd.Series({'SP':sp, 'Outros Estados':demais})\n",
    "\n",
    "double_bar_plot(x1,\n",
    "               data,\n",
    "               figsize = (16,6),\n",
    "               ylabel1='Total de Anúncios',\n",
    "               ylabel2=\"No. de Anúncios\",\n",
    "               title1='Total de picapes com câmbio automático anunciadas por União Federativa',\n",
    "               title2=\"Anúncios de Picapes Automáticas: SP vs. Demais UF's\",\n",
    "               color1='mediumaquamarine',\n",
    "               color2='sandybrown')"
   ]
  },
  {
   "cell_type": "markdown",
   "id": "1ff29217",
   "metadata": {},
   "source": [
    "Podemos ver (abaixo) que o preço médio de Picapes com transmissão automática de São Paulo não é dos mais altos, mas o desvio padrão é. Quanto mais alto é o desvio padrão, mais os dados estão dispersos. Isso significa que, dos dados que temos em mãos, não só há mais opções em São Paulo do que em todo o resto do país, como também a dispersão dos preços em torno da média só não é maior que a de Santa Catarina, que por sinal possui uma menor média de preço. Quanto maior o desvio padrão, mais temos opções de preços. "
   ]
  },
  {
   "cell_type": "code",
   "execution_count": null,
   "id": "78525889",
   "metadata": {},
   "outputs": [],
   "source": [
    "d = picape_automatica.groupby('uf')['preco'].std().sort_values(ascending=False)\n",
    "m = picape_automatica.groupby('uf')['preco'].mean().sort_values()\n",
    "\n",
    "double_bar_plot(m,d,\n",
    "                title1=\"média por UF (quanto menor, melhor)\",\n",
    "                title2=\"desvio padrão por UF (quanto maior, melhor)\")"
   ]
  },
  {
   "cell_type": "markdown",
   "id": "3b0bba34",
   "metadata": {},
   "source": [
    "Como podemos ver acima, Santa Catarina parece um bom estado para se comprar Picapes Automáticas pois tem uma média de preço menor que a de São Paulo, um Desvio Padrão Maior, e consequentemente, um Coeficiente de Variação Maior. \n",
    "\n",
    "Plotamos abaixo a distribuição dos das picapes com transmissão automática no estado de São Paulo e Santa Catarina. Vemos que realmente há muitas opções nas mais diversas faixas de preço. "
   ]
  },
  {
   "cell_type": "code",
   "execution_count": null,
   "id": "7b3ad8ec",
   "metadata": {},
   "outputs": [],
   "source": [
    "plt.figure(figsize = (12,6), facecolor='moccasin')\n",
    "# Filtramos veículos acima de R$ 500.000,00 para melhorar a visualização.\n",
    "# Há veículos com preços acima disso, mas não chegariam a ser visíveis neste gráfico  \n",
    "plt.hist(picape_automatica[(picape_automatica['uf'] == 'SP')]['preco'], bins=156, color='mediumaquamarine');\n",
    "plt.xlabel(\"Preço (R$)\")\n",
    "plt.ylabel(\"Quantidade de Anúncios\")\n",
    "plt.title(\"Veículos Anunciados em São Paulo\")\n",
    "plt.show()\n",
    "\n",
    "plt.figure(figsize = (12,6), facecolor='moccasin')\n",
    "# Filtramos veículos acima de R$ 500.000,00 para melhorar a visualização.\n",
    "# Há veículos com preços acima disso, mas não chegariam a ser visíveis neste gráfico  \n",
    "plt.hist(picape_automatica[(picape_automatica['uf'] == 'SC')]['preco'], bins=156, color='mediumaquamarine');\n",
    "plt.xlabel(\"Preço (R$)\");\n",
    "plt.ylabel(\"Quantidade de Anúncios\")\n",
    "plt.title(\"Veículos Anunciados em Santa Catarina\");\n",
    "plt.show()"
   ]
  },
  {
   "cell_type": "markdown",
   "id": "4f43925c",
   "metadata": {},
   "source": [
    "Vamos agora olhar para o Coeficiente de Variação, dessa vez procurando o maior:"
   ]
  },
  {
   "cell_type": "code",
   "execution_count": null,
   "id": "5f72366e",
   "metadata": {},
   "outputs": [],
   "source": [
    "d = picape_automatica.groupby('uf')['preco'].std()\n",
    "m = picape_automatica.groupby('uf')['preco'].mean()\n",
    "\n",
    "picape_automatica_CV_uf = (d/m).sort_values(ascending=False)\n",
    "\n",
    "plt.figure(figsize = (16,6), facecolor='moccasin')\n",
    "sns.barplot(x=picape_automatica_CV_uf.index, y=picape_automatica_CV_uf, color='mediumaquamarine', alpha=0.7, label='treino');\n",
    "plt.ylabel('Coeficiente de Variação')\n",
    "plt.title('Coeficiente de Variação de preços de Picapes Automáticas por UF(quanto maior, melhor para compra)')\n",
    "plt.xticks(rotation=64)\n",
    "plt.show()"
   ]
  },
  {
   "cell_type": "markdown",
   "id": "7c8fa20b",
   "metadata": {},
   "source": [
    "Santa Catarina tem um Coeficiente de Variação maior, o que já era esperado, dado que a média de preços em SC é meor que em SP e que o desvio padrão é maior em SC. Mas isso não é conclusivo, primeiro porque há muito mais opções em São Paulo do que em Santa Catarina, e segundo porque temos a disposição mais dados para analisar. Vamos olhar para fatores qualitativos agora: "
   ]
  },
  {
   "cell_type": "code",
   "execution_count": null,
   "id": "7659d9f2",
   "metadata": {},
   "outputs": [],
   "source": [
    "delivery = picape_automatica.groupby('uf')['delivery'].sum()\n",
    "delivery_pct = picape_automatica.groupby('uf')['delivery'].sum()/picape_automatica['uf'].value_counts()\n",
    "delivery.sort_values(inplace=True)\n",
    "delivery_pct.sort_values(inplace=True)\n",
    "\n",
    "double_bar_plot(series1=delivery,\n",
    "               series2=delivery_pct,\n",
    "               ylabel1='Quantidade de Anúncios',\n",
    "               ylabel2='Porcentagem',\n",
    "               title1='Anúncios cujos vendedores fazem entrega do veículo',\n",
    "               title2='Porcentagem de Anúncios que fazem entrega'\n",
    "               )               "
   ]
  },
  {
   "cell_type": "code",
   "execution_count": null,
   "id": "fa754fe9",
   "metadata": {},
   "outputs": [],
   "source": [
    "aceita_troca = picape_automatica.groupby('uf')['aceita_troca'].sum()\n",
    "aceita_troca_pct = picape_automatica.groupby('uf')['aceita_troca'].sum()/picape_automatica['uf'].value_counts()\n",
    "\n",
    "aceita_troca.sort_values(inplace=True)\n",
    "aceita_troca_pct.sort_values(inplace=True)\n",
    "\n",
    "double_bar_plot(aceita_troca,\n",
    "                    aceita_troca_pct,\n",
    "                    ylabel1='Quantidade de Anúncios',\n",
    "                    ylabel2='Porcentagem',\n",
    "                    title1='Anúncios cujos vendedores aceitam troca',\n",
    "                    title2='Porcentagem de Anúncios que aceitam troca',\n",
    "                   color1='mediumaquamarine',\n",
    "                   color2='sandybrown')"
   ]
  },
  {
   "cell_type": "code",
   "execution_count": null,
   "id": "8916ac55",
   "metadata": {},
   "outputs": [],
   "source": [
    "unico_dono = picape_automatica.groupby('uf')['unico_dono'].sum()\n",
    "unico_dono_pct = picape_automatica.groupby('uf')['unico_dono'].sum()/picape_automatica['uf'].value_counts()\n",
    "\n",
    "unico_dono.sort_values(inplace=True)\n",
    "unico_dono_pct.sort_values(inplace=True)\n",
    "\n",
    "double_bar_plot(unico_dono,\n",
    "                    unico_dono_pct,\n",
    "                    ylabel1='Quantidade de Anúncios',\n",
    "                    ylabel2='Porcentagem',\n",
    "                    title1='Veículos que possuíram único dono',\n",
    "                    title2='Porcentagem de veículos que possuíram único dono')"
   ]
  },
  {
   "cell_type": "markdown",
   "id": "350bbb3d",
   "metadata": {},
   "source": [
    "Em um caso real, seguiríamos explorando as demais características do veículo. Aqui, por questões de tempo e também para poupar o leitor, concluíremos que São Paulo é o melhor estado para se comprar Picapes Automáticas porque há uma média baixa de preços, há muito mais anúncios do que em todo o resto do país combinados, há mais opções que fazem entrega do veículo, há mais anúncios de veículos que possuíram único dono, há mais anúncios cujo vendedor aceita troca... \n",
    "Talvez um último fator seja ainda relevante de ser checado: a quantidade de marcas disponíveis para a compra. Abaixo, vemos que São Paulo também oferece mais opções de marcas para se comprar. "
   ]
  },
  {
   "cell_type": "code",
   "execution_count": null,
   "id": "b1f3e84a",
   "metadata": {},
   "outputs": [],
   "source": [
    "marcas = picape_automatica.groupby('uf')['marca'].nunique()\n",
    "marcas.sort_values(inplace=True)\n",
    "\n",
    "plt.figure(figsize=(16,6), facecolor='moccasin')\n",
    "sns.barplot(x=marcas.index, y=marcas, alpha=0.7);\n",
    "plt.ylabel(\"Total de marcas diferentes\")\n",
    "plt.title(\"Marcas de veículos disponíveis por estado\")\n",
    "plt.xticks(rotation=64)\n",
    "plt.show()"
   ]
  },
  {
   "cell_type": "markdown",
   "id": "6fcaa291",
   "metadata": {},
   "source": [
    "# Carros que ainda estão dentro da garantia de fábrica\n",
    "A análise aqui é análoga à análise feita anteriormente, por isso seremos um pouco mais diretos aqui. Também cabe observar que a discrepância da quantidade de anúncios de SP para o resto do país em nossa base de dados é tão grande que o problema é quase trivial. "
   ]
  },
  {
   "cell_type": "code",
   "execution_count": null,
   "id": "a33eb8fe",
   "metadata": {},
   "outputs": [],
   "source": [
    "garantia = treino[(treino['garantia'] == True)]\n",
    "x1 = garantia['uf'].value_counts()\n",
    "\n",
    "sp = garantia[garantia['uf'] == 'SP'].shape[0]\n",
    "demais = garantia[garantia['uf'] != 'SP'].shape[0]\n",
    "data = pd.Series({'SP':sp, 'Outros Estados':demais})\n",
    "\n",
    "double_bar_plot(x1,\n",
    "               data,\n",
    "               figsize = (16,6),\n",
    "               ylabel1='Total de Anúncios',\n",
    "               ylabel2=\"No. de Anúncios\",\n",
    "               title1='Total de Veículos dentro da Garantia de Fábrica por União Federativa',\n",
    "               title2=\"SP vs. Demais UF's\",\n",
    "               color1='mediumaquamarine',\n",
    "               color2='sandybrown')\n",
    "\n",
    "d = garantia.groupby('uf')['preco'].std().sort_values(ascending=False)\n",
    "m = garantia.groupby('uf')['preco'].mean().sort_values()\n",
    "\n",
    "double_bar_plot(m,d,\n",
    "                title1=\"média por UF (quanto menor, melhor)\",\n",
    "                title2=\"desvio padrão por UF (quanto maior, melhor)\")\n",
    "\n",
    "marcas = garantia.groupby('uf')['marca'].nunique()\n",
    "marcas.sort_values(inplace=True)\n",
    "\n",
    "plt.figure(figsize=(16,6), facecolor='moccasin')\n",
    "sns.barplot(x=marcas.index, y=marcas, alpha=0.7);\n",
    "plt.ylabel(\"Total de marcas diferentes\")\n",
    "plt.title(\"Marcas de veículos ainda na garantia disponíveis por estado\")\n",
    "plt.xticks(rotation=64)\n",
    "plt.show()\n",
    "\n",
    "\n",
    "aceita_troca = garantia.groupby('uf')['aceita_troca'].sum()\n",
    "aceita_troca_pct = garantia.groupby('uf')['aceita_troca'].sum()/garantia['uf'].value_counts()\n",
    "\n",
    "aceita_troca.sort_values(inplace=True)\n",
    "aceita_troca_pct.sort_values(inplace=True)\n",
    "\n",
    "double_bar_plot(aceita_troca,\n",
    "                    aceita_troca_pct,\n",
    "                    ylabel1='Quantidade de Anúncios',\n",
    "                    ylabel2='Porcentagem',\n",
    "                    title1='Anúncios de veículos em garantia cujos vendedores aceitam troca',\n",
    "                    title2='Porcentagem de Anúncios que aceitam troca',\n",
    "                   color1='mediumaquamarine',\n",
    "                   color2='sandybrown')\n",
    "\n",
    "\n",
    "unico_dono = garantia.groupby('uf')['unico_dono'].sum()\n",
    "unico_dono_pct = garantia.groupby('uf')['unico_dono'].sum()/garantia['uf'].value_counts()\n",
    "\n",
    "unico_dono.sort_values(inplace=True)\n",
    "unico_dono_pct.sort_values(inplace=True)\n",
    "\n",
    "double_bar_plot(unico_dono,\n",
    "                    unico_dono_pct,\n",
    "                    ylabel1='Quantidade de Anúncios',\n",
    "                    ylabel2='Porcentagem',\n",
    "                    title1='Veículos dentro de garantia que possuíram único dono',\n",
    "                    title2='Porcentagem de veículos que possuíram único dono')"
   ]
  },
  {
   "cell_type": "markdown",
   "id": "23bdac64",
   "metadata": {},
   "source": [
    "Os gráficos acima sugerem que São Paulo também é o melhor lugar para se comprar veículos ainda em garantia de fábrica por haver maior disponibilidade de marcas, mais veículos ainda em garantia que possuíram único dono, cujo dono aceita troca, etc. "
   ]
  },
  {
   "cell_type": "markdown",
   "id": "716b9570",
   "metadata": {},
   "source": [
    "# Regressão\n",
    "Temos aqui um problema de regressão, e não de classificação, já que queremos prever uma variável (preço) que pode assumir, a princípio, qualquer valor positivo. Faremos aqui uma regressão linear. Começamos preparando o conjunto que temos para treino: "
   ]
  },
  {
   "cell_type": "code",
   "execution_count": null,
   "id": "7dddce46",
   "metadata": {},
   "outputs": [],
   "source": [
    "X = pd.get_dummies(treino.drop('preco', axis=1))\n",
    "y = treino['preco']\n",
    "\n",
    "X_train, X_test, y_train, y_test = train_test_split(X, y, test_size=0.2, random_state=42)"
   ]
  },
  {
   "cell_type": "markdown",
   "id": "ef2ab7d6",
   "metadata": {},
   "source": [
    "Agora, criamos e treinamos o modelo de regressão linear: "
   ]
  },
  {
   "cell_type": "code",
   "execution_count": null,
   "id": "007897a2",
   "metadata": {},
   "outputs": [],
   "source": [
    "model = LinearRegression()\n",
    "model.fit(X_train, y_train)"
   ]
  },
  {
   "cell_type": "markdown",
   "id": "06695526",
   "metadata": {},
   "source": [
    "Por fim, fazemos as previsões e avaliamos a performance do modelo:"
   ]
  },
  {
   "cell_type": "code",
   "execution_count": null,
   "id": "4bfb1e87",
   "metadata": {},
   "outputs": [],
   "source": [
    "y_pred = model.predict(X_train)\n",
    "\n",
    "# Evaluate the model performance\n",
    "mse = mean_squared_error(y_test, y_pred)\n",
    "r2 = r2_score(y_test, y_pred)\n",
    "\n",
    "print(\"Mean Squared Error:\", mse)\n",
    "print(\"R-squared:\", r2)"
   ]
  }
 ],
 "metadata": {
  "kernelspec": {
   "display_name": "Python 3 (ipykernel)",
   "language": "python",
   "name": "python3"
  },
  "language_info": {
   "codemirror_mode": {
    "name": "ipython",
    "version": 3
   },
   "file_extension": ".py",
   "mimetype": "text/x-python",
   "name": "python",
   "nbconvert_exporter": "python",
   "pygments_lexer": "ipython3",
   "version": "3.11.3"
  }
 },
 "nbformat": 4,
 "nbformat_minor": 5
}
